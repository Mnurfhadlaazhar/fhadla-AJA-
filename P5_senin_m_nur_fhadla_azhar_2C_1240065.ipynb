{
  "nbformat": 4,
  "nbformat_minor": 0,
  "metadata": {
    "colab": {
      "provenance": [],
      "authorship_tag": "ABX9TyNlhY2d7LBn/mkkYrYHF0z1",
      "include_colab_link": true
    },
    "kernelspec": {
      "name": "python3",
      "display_name": "Python 3"
    },
    "language_info": {
      "name": "python"
    }
  },
  "cells": [
    {
      "cell_type": "markdown",
      "metadata": {
        "id": "view-in-github",
        "colab_type": "text"
      },
      "source": [
        "<a href=\"https://colab.research.google.com/github/Mnurfhadlaazhar/fhadla-AJA-/blob/main/P5_senin_m_nur_fhadla_azhar_2C_1240065.ipynb\" target=\"_parent\"><img src=\"https://colab.research.google.com/assets/colab-badge.svg\" alt=\"Open In Colab\"/></a>"
      ]
    },
    {
      "cell_type": "code",
      "execution_count": 1,
      "metadata": {
        "colab": {
          "base_uri": "https://localhost:8080/"
        },
        "id": "7ydzSwHU05RY",
        "outputId": "0224d841-8967-412d-e78a-1e75697acc3b"
      },
      "outputs": [
        {
          "output_type": "stream",
          "name": "stdout",
          "text": [
            "Hello,Word!\n"
          ]
        }
      ],
      "source": [
        "#Program HelloWord\n",
        "#Mencetak Hello, Word! ke layar\n",
        "\n",
        "#KAMUS\n",
        "#belum diperlukan\n",
        "\n",
        "#ALGORITMA\n",
        "print('Hello,Word!')"
      ]
    },
    {
      "cell_type": "code",
      "source": [
        "#Program Test\n",
        "#Spesifikasi:Menghitung nilai A dan B\n",
        "\n",
        "#KAMUS\n",
        "#A:int\n",
        "#B:int\n",
        "\n",
        "#ALGORITMA\n",
        "A=int(input('Masukkan angka A='))     #input\n",
        "B=int(input('Masukkan angka B='))\n",
        "\n",
        "A=A+B              #proses\n",
        "\n",
        "print(A)\n",
        "print(B)           #output\n",
        "\n",
        "\n"
      ],
      "metadata": {
        "colab": {
          "base_uri": "https://localhost:8080/"
        },
        "id": "oY1Q06ZC2qQf",
        "outputId": "96e2b10d-16fc-4a53-a894-70b91c876348"
      },
      "execution_count": 4,
      "outputs": [
        {
          "output_type": "stream",
          "name": "stdout",
          "text": [
            "Masukkan angka A=10\n",
            "Masukkan angka B=9\n",
            "19\n",
            "9\n"
          ]
        }
      ]
    },
    {
      "cell_type": "code",
      "source": [
        "# Program TinggiRataRata\n",
        "# Menerima tinggi 3 siswa dan menghitung rata-rata\n",
        "\n",
        "#KAMUS\n",
        "# M:int\n",
        "# H:int\n",
        "# K:int\n",
        "\n",
        "#ALGORITMA\n",
        "M=int(input())\n",
        "H=int(input())\n",
        "K=int(input())\n",
        "\n",
        "HargaPembayaran =M*10+ H*15 + K*20\n",
        "print(HargaPembayaran)\n",
        "\n",
        "\n",
        "\n",
        "44678t5qwe312"
      ],
      "metadata": {
        "colab": {
          "base_uri": "https://localhost:8080/"
        },
        "id": "C2FSENqm9v4_",
        "outputId": "52ad5a99-6460-4a7a-b813-87bd9e5cfcd8"
      },
      "execution_count": 18,
      "outputs": [
        {
          "output_type": "stream",
          "name": "stdout",
          "text": [
            "10\n",
            "1\n",
            "2\n",
            "155\n"
          ]
        }
      ]
    },
    {
      "cell_type": "code",
      "source": [
        "print(\"Hello Word\")"
      ],
      "metadata": {
        "colab": {
          "base_uri": "https://localhost:8080/"
        },
        "id": "tb86uBOzG4cP",
        "outputId": "cf327b0c-5131-4a76-b5a7-f7a4fcb0b5ec"
      },
      "execution_count": 1,
      "outputs": [
        {
          "output_type": "stream",
          "name": "stdout",
          "text": [
            "Hello Word\n"
          ]
        }
      ]
    }
  ]
}