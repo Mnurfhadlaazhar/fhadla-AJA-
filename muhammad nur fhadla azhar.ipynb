{
  "cells": [
    {
      "cell_type": "markdown",
      "metadata": {
        "id": "view-in-github",
        "colab_type": "text"
      },
      "source": [
        "<a href=\"https://colab.research.google.com/github/Mnurfhadlaazhar/fhadla-AJA-/blob/main/muhammad%20nur%20fhadla%20azhar.ipynb\" target=\"_parent\"><img src=\"https://colab.research.google.com/assets/colab-badge.svg\" alt=\"Open In Colab\"/></a>"
      ]
    },
    {
      "cell_type": "code",
      "source": [
        "#program nama\n",
        "nama = input(\"masukan nama :\")\n",
        "print(f\"halo,{nama}!selamat belajar python!\")\n"
      ],
      "metadata": {
        "id": "WDMYiK_MFMXl",
        "outputId": "dc277e78-23a1-4957-ffe2-e39ad22f16eb",
        "colab": {
          "base_uri": "https://localhost:8080/"
        }
      },
      "execution_count": 11,
      "outputs": [
        {
          "output_type": "stream",
          "name": "stdout",
          "text": [
            "masukan nama :fhadla azhar\n",
            "halo,fhadla azhar!selamat belajar python!\n"
          ]
        }
      ]
    },
    {
      "cell_type": "code",
      "source": [
        "\n",
        "#program menghitung luas persegi panjang\n",
        "p=int(input(\"panjang\"))\n",
        "l=int(input(\"lebar\"))\n",
        "luas=p*l\n",
        "print(\"luas persegi panjang adalah\",luas)"
      ],
      "metadata": {
        "id": "3DXmQAuaGRxN",
        "outputId": "ef54cfc9-dccd-4873-8ce7-f23b03c4d308",
        "colab": {
          "base_uri": "https://localhost:8080/"
        }
      },
      "execution_count": 17,
      "outputs": [
        {
          "output_type": "stream",
          "name": "stdout",
          "text": [
            "panjang5\n",
            "lebar3\n",
            "luas persegi panjang adalah 15\n"
          ]
        }
      ]
    },
    {
      "cell_type": "code",
      "source": [
        "#program  menentukan bilangan genap atau ganjil\n",
        "N= int(input())\n",
        "if N % 2 == 0 :\n",
        "    print (f\"{N} adalah bilangan genap\")\n",
        "else:\n",
        "  print(f\"{N} adalah bilangan ganjil\")\n",
        "\n",
        "\n"
      ],
      "metadata": {
        "id": "asiHPgzgHWZP",
        "outputId": "cf589101-7008-4064-9306-547316401586",
        "colab": {
          "base_uri": "https://localhost:8080/"
        }
      },
      "execution_count": 35,
      "outputs": [
        {
          "output_type": "stream",
          "name": "stdout",
          "text": [
            "9\n",
            "9 adalah bilangan ganjil\n"
          ]
        }
      ]
    },
    {
      "cell_type": "code",
      "source": [
        "#program  menentukan bilangan genap atau ganjil\n",
        "N= int(input())\n",
        "if N % 2 == 0 :\n",
        "    print (N,\"adalah bilangan genap\")\n",
        "else:\n",
        "  print(N, \"adalah bilangan ganjil\")\n",
        "\n",
        "\n"
      ],
      "metadata": {
        "id": "jSx8M8IsM7ij",
        "outputId": "39352000-6ac5-45e8-836b-3be68eb49166",
        "colab": {
          "base_uri": "https://localhost:8080/"
        }
      },
      "execution_count": 36,
      "outputs": [
        {
          "output_type": "stream",
          "name": "stdout",
          "text": [
            "19\n",
            "19 adalah bilangan ganjil\n"
          ]
        }
      ]
    },
    {
      "cell_type": "code",
      "source": [
        "#buat program menampilkan deret bilangan\n",
        "N = int(input())\n",
        "for i in range(1,N+1):\n",
        "  print(i,end=\" \")\n"
      ],
      "metadata": {
        "id": "N7Mqqf8aLSW1",
        "outputId": "aba113ab-8dc7-4727-b713-e6df236cdaff",
        "colab": {
          "base_uri": "https://localhost:8080/"
        }
      },
      "execution_count": 32,
      "outputs": [
        {
          "output_type": "stream",
          "name": "stdout",
          "text": [
            "20\n",
            "1 2 3 4 5 6 7 8 9 10 11 12 13 14 15 16 17 18 19 20 "
          ]
        }
      ]
    },
    {
      "cell_type": "code",
      "source": [
        "#program  menghitung bilangan bulat antara a dan b\n",
        "a= int(input(\"masukan angka a :\"))\n",
        "b = int(input(\"masukan angka b :\"))\n",
        "for i in range(a,b+1):\n",
        "    jumlah = sum(range(a, b+1))\n",
        "\n",
        "print(f\"jumlah dari {a} sampai {b} adalah {jumlah}\")"
      ],
      "metadata": {
        "id": "XMmKI6yVSmSz",
        "outputId": "c8407e7f-444a-47cf-c270-84be6d80b8df",
        "colab": {
          "base_uri": "https://localhost:8080/"
        }
      },
      "execution_count": 2,
      "outputs": [
        {
          "output_type": "stream",
          "name": "stdout",
          "text": [
            "masukan angka a :3\n",
            "masukan angka b :7\n",
            "jumlah dari 3 sampai 7 adalah 25\n"
          ]
        }
      ]
    },
    {
      "cell_type": "code",
      "source": [
        "#program jumlah angka diantara a dan b\n",
        "a= int(input(\"masukan bilangan bulat a:\"))\n",
        "b = int(input(\"masukan bilangan bulat b:\"))\n",
        "print(\"bilangan genap dalam rentan tersebur adalah: \")\n",
        "\n",
        "for i in range (a, b+1):\n",
        "  if i % 2 == 0 :\n",
        "    print(i,end=\" \")"
      ],
      "metadata": {
        "id": "pCOZiYWBUKTT",
        "outputId": "df5ade60-6b3a-464f-816f-6a882a10f915",
        "colab": {
          "base_uri": "https://localhost:8080/"
        }
      },
      "execution_count": 10,
      "outputs": [
        {
          "output_type": "stream",
          "name": "stdout",
          "text": [
            "masukan bilangan bulat a:3\n",
            "masukan bilangan bulat b:10\n",
            "bilangan genap dalam rentan tersebur adalah: \n",
            "4 6 8 10 "
          ]
        }
      ]
    },
    {
      "cell_type": "code",
      "source": [
        " #program mencetak  nilai dari array dalam urutan terbalik\n",
        "A =[5,2,8,1]\n",
        "for i in range(len(A)-1, -1, -1):\n",
        "   print(A[i], end= \" \")"
      ],
      "metadata": {
        "id": "7uTQrXbHWAy8",
        "outputId": "830fa48f-2573-4a7d-8c5f-28d1b9d38790",
        "colab": {
          "base_uri": "https://localhost:8080/"
        }
      },
      "execution_count": 15,
      "outputs": [
        {
          "output_type": "stream",
          "name": "stdout",
          "text": [
            "1 8 2 5 "
          ]
        }
      ]
    },
    {
      "cell_type": "code",
      "source": [
        "# Program untuk mengecek apakah sebuah bilangan adalah bilangan prima\n",
        "\n",
        "def cek_prima(bilangan):\n",
        "    if bilangan <= 1:\n",
        "        return False\n",
        "    for i in range(2, int(bilangan**0.5) + 1):\n",
        "        if bilangan % i == 0:\n",
        "            return False\n",
        "    return True\n",
        "# Meminta input dari pengguna\n",
        "try:\n",
        "    angka = int(input(\"Masukkan sebuah bilangan bulat: \"))\n",
        "    if cek_prima(angka):\n",
        "        print(f\"{angka} adalah bilangan prima.\")\n",
        "    else:\n",
        "        print(f\"{angka} bukan bilangan prima.\")\n",
        "except ValueError:\n",
        "    print(\"Harap masukkan sebuah bilangan bulat yang valid.\")"
      ],
      "metadata": {
        "id": "APhhq1AIYAJK",
        "outputId": "74d5488c-e6e4-4b83-c704-3ae66a1ed3f1",
        "colab": {
          "base_uri": "https://localhost:8080/"
        }
      },
      "execution_count": 17,
      "outputs": [
        {
          "output_type": "stream",
          "name": "stdout",
          "text": [
            "Masukkan sebuah bilangan bulat:  13\n",
            "13 adalah bilangan prima.\n"
          ]
        }
      ]
    }
  ],
  "metadata": {
    "colab": {
      "name": "Welcome To Colab",
      "toc_visible": true,
      "provenance": [],
      "include_colab_link": true
    },
    "kernelspec": {
      "display_name": "Python 3",
      "name": "python3"
    }
  },
  "nbformat": 4,
  "nbformat_minor": 0
}