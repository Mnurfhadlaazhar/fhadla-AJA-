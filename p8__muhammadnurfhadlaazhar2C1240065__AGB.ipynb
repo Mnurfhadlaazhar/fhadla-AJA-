{
  "nbformat": 4,
  "nbformat_minor": 0,
  "metadata": {
    "colab": {
      "provenance": [],
      "include_colab_link": true
    },
    "kernelspec": {
      "name": "python3",
      "display_name": "Python 3"
    },
    "language_info": {
      "name": "python"
    }
  },
  "cells": [
    {
      "cell_type": "markdown",
      "metadata": {
        "id": "view-in-github",
        "colab_type": "text"
      },
      "source": [
        "<a href=\"https://colab.research.google.com/github/Mnurfhadlaazhar/fhadla-AJA-/blob/main/p8__muhammadnurfhadlaazhar2C1240065__AGB.ipynb\" target=\"_parent\"><img src=\"https://colab.research.google.com/assets/colab-badge.svg\" alt=\"Open In Colab\"/></a>"
      ]
    },
    {
      "cell_type": "markdown",
      "source": [
        "**FUNDAMENTAL ARRAY**"
      ],
      "metadata": {
        "id": "wfgZxt5q_TzV"
      }
    },
    {
      "cell_type": "code",
      "execution_count": 3,
      "metadata": {
        "id": "9TB1ZwTr_DYz",
        "colab": {
          "base_uri": "https://localhost:8080/"
        },
        "outputId": "92f76ba7-a71c-459b-aa15-66a5eb4ef6f3"
      },
      "outputs": [
        {
          "output_type": "execute_result",
          "data": {
            "text/plain": [
              "[10, 20, 30, 40]"
            ]
          },
          "metadata": {},
          "execution_count": 3
        }
      ],
      "source": [
        "arr = [10, 20, 30, 40]\n",
        "arr"
      ]
    },
    {
      "cell_type": "code",
      "source": [
        "list_numbers = [1, 2, 3, 4, 5]\n",
        "list_numbers"
      ],
      "metadata": {
        "id": "Qye2YU0__OFZ",
        "colab": {
          "base_uri": "https://localhost:8080/"
        },
        "outputId": "c7097066-a7fa-4d9a-d30c-bcb6ee05620a"
      },
      "execution_count": 4,
      "outputs": [
        {
          "output_type": "execute_result",
          "data": {
            "text/plain": [
              "[1, 2, 3, 4, 5]"
            ]
          },
          "metadata": {},
          "execution_count": 4
        }
      ]
    },
    {
      "cell_type": "markdown",
      "source": [],
      "metadata": {
        "id": "YavCf49mPyph"
      }
    },
    {
      "cell_type": "code",
      "source": [
        "list_numbers[0] = 100  # Mengubah elemen pertama menjadi 100\n",
        "list_numbers[0]"
      ],
      "metadata": {
        "id": "Fl3348wK_Rjh",
        "colab": {
          "base_uri": "https://localhost:8080/"
        },
        "outputId": "2f72bf1c-a4be-464c-df99-4b4752a6da82"
      },
      "execution_count": 6,
      "outputs": [
        {
          "output_type": "execute_result",
          "data": {
            "text/plain": [
              "100"
            ]
          },
          "metadata": {},
          "execution_count": 6
        }
      ]
    },
    {
      "cell_type": "markdown",
      "source": [
        "**MENDEKLARASIKAN ARRAY**"
      ],
      "metadata": {
        "id": "vu07k-Tj_cp9"
      }
    },
    {
      "cell_type": "code",
      "source": [
        "arr = [1, 2, 3, 4, 5]\n",
        "arr"
      ],
      "metadata": {
        "id": "Z7JTYURvCO49",
        "colab": {
          "base_uri": "https://localhost:8080/"
        },
        "outputId": "df7965be-05e9-4316-f05d-44414827b7cd"
      },
      "execution_count": 9,
      "outputs": [
        {
          "output_type": "execute_result",
          "data": {
            "text/plain": [
              "[1, 2, 3, 4, 5]"
            ]
          },
          "metadata": {},
          "execution_count": 9
        }
      ]
    },
    {
      "cell_type": "code",
      "source": [
        "data = [1, 2, 3, 'hello', 5.5]  # array dengan elemen tipe berbeda\n",
        "data"
      ],
      "metadata": {
        "id": "OKBRVSaA_f6u",
        "colab": {
          "base_uri": "https://localhost:8080/"
        },
        "outputId": "db77af6a-991c-41ea-ba84-34c13585d0a6"
      },
      "execution_count": 8,
      "outputs": [
        {
          "output_type": "execute_result",
          "data": {
            "text/plain": [
              "[1, 2, 3, 'hello', 5.5]"
            ]
          },
          "metadata": {},
          "execution_count": 8
        }
      ]
    },
    {
      "cell_type": "code",
      "source": [
        "arr = [0] * 5  # Membuat array dengan 5 elemen, semua berisi 0\n",
        "arr"
      ],
      "metadata": {
        "id": "2b5ZTBRJ_isp",
        "colab": {
          "base_uri": "https://localhost:8080/"
        },
        "outputId": "d2c01da2-ddd0-413a-cb12-94ec7c41b4ee"
      },
      "execution_count": 7,
      "outputs": [
        {
          "output_type": "execute_result",
          "data": {
            "text/plain": [
              "[0, 0, 0, 0, 0]"
            ]
          },
          "metadata": {},
          "execution_count": 7
        }
      ]
    },
    {
      "cell_type": "code",
      "source": [
        "arr = [10, 20, 30, 40]\n",
        "print(arr[0])  # Output: 10 (indeks pertama)\n",
        "print(arr[3])  # Output: 40 (indeks terakhir)"
      ],
      "metadata": {
        "colab": {
          "base_uri": "https://localhost:8080/"
        },
        "id": "GHWtWUHi_knC",
        "outputId": "dc142b45-7102-46d8-a7d9-8ab7258204a9"
      },
      "execution_count": null,
      "outputs": [
        {
          "output_type": "stream",
          "name": "stdout",
          "text": [
            "10\n",
            "40\n"
          ]
        }
      ]
    },
    {
      "cell_type": "markdown",
      "source": [
        "**PEMROSESAN SEKUENSIAL ARRAY**"
      ],
      "metadata": {
        "id": "fQEuwUc3_mrE"
      }
    },
    {
      "cell_type": "code",
      "source": [
        "arr = [10, 20, 30, 40, 50]\n",
        "for elemen in arr:\n",
        "    print(elemen)\n"
      ],
      "metadata": {
        "colab": {
          "base_uri": "https://localhost:8080/"
        },
        "id": "7ZE8ZrrE_qmV",
        "outputId": "b5093213-3273-445d-ff08-3c3005558e96"
      },
      "execution_count": null,
      "outputs": [
        {
          "output_type": "stream",
          "name": "stdout",
          "text": [
            "10\n",
            "20\n",
            "30\n",
            "40\n",
            "50\n"
          ]
        }
      ]
    },
    {
      "cell_type": "code",
      "source": [
        "total = 0\n",
        "for elemen in arr:\n",
        "    total += elemen\n",
        "print(total)  # Output: 150\n"
      ],
      "metadata": {
        "colab": {
          "base_uri": "https://localhost:8080/"
        },
        "id": "sWK3Hdb9_tzN",
        "outputId": "293b7916-7953-489c-93b8-37a8a1172900"
      },
      "execution_count": null,
      "outputs": [
        {
          "output_type": "stream",
          "name": "stdout",
          "text": [
            "150\n"
          ]
        }
      ]
    },
    {
      "cell_type": "code",
      "source": [
        " arr = [30, 45, 10, 20, 12, 7, 19, 13, 17, 2, 10, 27, 5, 29]\n",
        "\n",
        "nilai_maksimum = max(arr)\n",
        "print('nilai_maksimum',nilai_maksimum)\n",
        "\n",
        "nilai_min = min(arr)\n",
        "print('nilai_min',nilai_min)\n",
        "\n",
        "penjumlahan =sum(arr)\n",
        "print('penjumlahan',penjumlahan)\n",
        "\n",
        "jumlah_arr =len(arr)\n",
        "print('jumlah_arr',jumlah_arr)\n",
        "\n",
        "rata_rata = penjumlahan/jumlah_arr\n",
        "print('rata_rata',rata_rata)\n",
        "\n"
      ],
      "metadata": {
        "colab": {
          "base_uri": "https://localhost:8080/"
        },
        "id": "_A9_9t5RQyuo",
        "outputId": "4f9a85e3-847a-4584-9864-9190c212c3a0"
      },
      "execution_count": 38,
      "outputs": [
        {
          "output_type": "stream",
          "name": "stdout",
          "text": [
            "nilai_maksimum 45\n",
            "nilai_min 2\n",
            "penjumlahan 246\n",
            "jumlah_arr 14\n",
            "rata_rata 17.571428571428573\n"
          ]
        }
      ]
    },
    {
      "cell_type": "code",
      "source": [
        " n = int(input(\"Masukkan jumlah elemen array (n): \"))\n",
        "T = [90]\n",
        "\n",
        "print(\"Masukkan elemen array T:\")\n",
        "for i in range(n):\n",
        "    elemen = int(input(f\"Elemen ke-{i+1}: \"))\n",
        "    T.append(elemen)\n",
        "\n",
        "nilai_terbesar = max(90, max(T))\n",
        "\n",
        "print(\"Nilai terbesar dari elemen array T adalah:\", 90 )"
      ],
      "metadata": {
        "colab": {
          "base_uri": "https://localhost:8080/"
        },
        "id": "vP-uzfJiWHYS",
        "outputId": "3b36d119-dec3-427e-9240-b162a15aa1b8"
      },
      "execution_count": 42,
      "outputs": [
        {
          "output_type": "stream",
          "name": "stdout",
          "text": [
            "Masukkan jumlah elemen array (n): 8\n",
            "Masukkan elemen array T:\n",
            "Elemen ke-1: 1\n",
            "Elemen ke-2: 3\n",
            "Elemen ke-3: 5\n",
            "Elemen ke-4: 8\n",
            "Elemen ke-5: -12\n",
            "Elemen ke-6: 90\n",
            "Elemen ke-7: 3\n",
            "Elemen ke-8: 5\n",
            "Nilai terbesar dari elemen array T adalah: 90\n"
          ]
        }
      ]
    },
    {
      "cell_type": "code",
      "source": [
        "0n = int(input(\"Masukkan jumlah elemen array (n): \"))\n",
        "T = [30]\n",
        "print(\"Masukkan elemen array T:\")\n",
        "for i in range(n):\n",
        "    elemen = int(input(f\"Elemen ke-{i+1}: \"))\n",
        "    T.append(elemen)\n",
        "\n",
        "nilai_terbesar = max(30, max(T))\n",
        "\n",
        "print(\"Nilai terbesar dari elemen array T adalah:\",30)\n",
        "\n",
        "print('nilai terbesar dari elemen array')"
      ],
      "metadata": {
        "colab": {
          "base_uri": "https://localhost:8080/"
        },
        "id": "nVg8QqvbXZAR",
        "outputId": "6f6d359a-6504-47cb-cc11-59a842527cbe"
      },
      "execution_count": 43,
      "outputs": [
        {
          "output_type": "stream",
          "name": "stdout",
          "text": [
            "Masukkan jumlah elemen array (n): 10\n",
            "Masukkan elemen array T:\n",
            "Elemen ke-1: 9\n",
            "Elemen ke-2: 12\n",
            "Elemen ke-3: 30\n",
            "Elemen ke-4: -1\n",
            "Elemen ke-5: 0\n",
            "Elemen ke-6: 4\n",
            "Elemen ke-7: -1\n",
            "Elemen ke-8: 3\n",
            "Elemen ke-9: 10\n",
            "Elemen ke-10: 14\n",
            "Nilai terbesar dari elemen array T adalah: 30\n"
          ]
        }
      ]
    }
  ]
}